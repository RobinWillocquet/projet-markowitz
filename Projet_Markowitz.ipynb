{
 "cells": [
  {
   "cell_type": "markdown",
   "metadata": {},
   "source": [
    "# Henry Markowitz et les quarante portefeuilles "
   ]
  },
  {
   "cell_type": "code",
   "execution_count": 1,
   "metadata": {},
   "outputs": [
    {
     "data": {
      "application/javascript": [
       "MathJax.Hub.Config({\n",
       "    TeX: { equationNumbers: { autoNumber: \"AMS\" } }\n",
       "});\n"
      ],
      "text/plain": [
       "<IPython.core.display.Javascript object>"
      ]
     },
     "metadata": {},
     "output_type": "display_data"
    }
   ],
   "source": [
    "%%javascript\n",
    "MathJax.Hub.Config({\n",
    "    TeX: { equationNumbers: { autoNumber: \"AMS\" } }\n",
    "});"
   ]
  },
  {
   "cell_type": "code",
   "execution_count": 2,
   "metadata": {},
   "outputs": [],
   "source": [
    "import numpy as np\n",
    "import matplotlib.pyplot as plt\n",
    "from scipy import optimize\n",
    "from casadi import *"
   ]
  },
  {
   "cell_type": "markdown",
   "metadata": {},
   "source": [
    "L’optimisation de portefeuille a pour objectif de définir un choix \"optimal\" d’investissement d’un capital\n",
    "dans un ensemble de n actifs. Pour ce faire, on note\n",
    "$x_i$\n",
    "l’investissement dans le i-ème actif, de sorte que le\n",
    "vecteur $x \\in \\mathbb{R}^n$\n",
    " décrit l’allocation globale du portefeuille à travers l’ensemble des actifs. Ceci génère un\n",
    "rendement $r$ pour l’ensemble du portefeuille, incertain,\n",
    "dont on cherche à minimiser le risque.\n",
    "\n",
    "On considère le vecteur $p \\in \\mathbb{R}^n$ de variation du prix\n",
    "des actifs sur le long terme, supposé gaussien, de\n",
    "moyenne $\\bar{p}$ et de matrice de covariance $\\Sigma$, semi-définie\n",
    "positive. Pour tenir compte du budget à investir, on a\n",
    "$$ 1^\\top x = 1 \\tag{1} $$\n",
    "où $1^\\top$ désigne le vecteur ligne $(1, . . . , 1) \\in \\mathbb{R}^n$.  Par\n",
    "ailleurs, pour un rendement 2} $r$ donné, on sait que\n",
    "$$ \\bar{p}^\\top x = r \\tag{2} $$\n",
    "et que le risque associé à un investissement $x$ peut\n",
    "s’exprimer comme sa variance\n",
    "$$ x^\\top \\Sigma x \\tag{3}$$"
   ]
  },
  {
   "cell_type": "markdown",
   "metadata": {},
   "source": [
    "## Etude de l’expression d’origine par Markowitz"
   ]
  },
  {
   "cell_type": "markdown",
   "metadata": {},
   "source": [
    "**Question 1** Dans ce problème, on se donne un budget initial et un ensemble de $n$ actifs dans lesquels on peut investir, dans le but de se constituer un portefeuille financier. On peut normaliser ces investissements, en se fixant un budget normalisé de $1$. On note $(x_1,...,x_n)$ le vecteur des différentes allocations. Si pour $i$ donné on a $x_i$ positif, on espère que l'actif $i$ augmente pour le revendre. Au contraire, si $x_i$ est négatif, on appelle cela une vente à découvert : on espère que l'actif $i$ baisse en valeur pour le racheter, et ainsi avoir une plus-value. \n",
    "\n",
    "Avec notre budget normalisé de $1$, on a nécessairement $ \\sum_{i = 1}^n x_i = 1$ car on souhaite investir la totalité du budget, et rien de plus. \n",
    "\n",
    "L'équation $(2)$ relie un placement $x$ et son rendement attendu $r$ (ou inversement un rendement attendu $r$ et un placement valable $x$, permettant d'espérer obtenir un tel rendement), ceci grâce au vecteur des variations moyennes de prix $\\bar{p}$. En effet, en pondérant nos placements par ces facteurs stochastiques, on prévoit la variation (normalisée) de notre capital, c'est-à-dire le rendement de notre portefeuille. \n",
    "\n",
    "Enfin, en se donnant un rendement à atteindre $r$, on veut essayer de minimiser le risque que notre rendement réel s'écarte du rendement attendu. Ce risque, c'est la variance liée à $p$, c'est à dire $x^\\top \\Sigma x$."
   ]
  },
  {
   "cell_type": "markdown",
   "metadata": {},
   "source": [
    "**Question 2** On cherche désormais à écrire ce problème comme un problème d'optimisation, sous la forme\n",
    "$$\\min_{c_{eq}(z) = 0} f(z) \\tag{4}$$\n",
    "\n",
    "Ici, c'est le risque lié à la variance et donné par l'équation $(3)$, qu'il faut minimiser, sous les contraintes des équations $(1)$ et $(2)$. \n",
    "On a $n$ variables, autant que d'actifs dans lesquels il est possible d'investir. Notre $z$ est évidemment le vecteur $x$ des allocations. Ce qu'on doit minimiser, c'est la fonction $f : x \\in \\mathbb{R}^n \\mapsto x^\\top \\Sigma x \\in \\mathbb{R}$.\n",
    "Les contraintes sont décrites par la fonction $ c_{eq} : x \\in \\mathbb{R}^n \\mapsto (1^\\top x -1,  \\bar{p}^\\top x - r) \\in \\mathbb{R}^2 $. "
   ]
  },
  {
   "cell_type": "markdown",
   "metadata": {},
   "source": [
    "**Question 3** On considère la contrainte supplémentaire $ 1^\\top \\max(-x,0) \\leq s_M \\tag{5} $\n",
    "\n",
    "L'utilisation du max vectoriel permet de ne sélectionner que les investissements négatifs, ou ventes à découvert, ou positions courtes. Ainsi, on somme les ventes à découvert, et on oblige la valeur absolue de cette somme à ne pas dépasser une certaine constante $s_M$ donnée. En faisant cela, le total des allocations d'investissements positifs est au moins de $1-s_M$.\n",
    "\n",
    "La difficulté est qu'on ajoute ici une contrainte d'inégalité non différentiable."
   ]
  },
  {
   "cell_type": "markdown",
   "metadata": {},
   "source": [
    "**Question 4** On introduit $s \\in \\mathbb{R}^n$, tel que :\n",
    "$$ s \\geq -x, \\ \\ s\\geq 0, \\ \\ 1^\\top s \\leq s_M \\tag{6}$$\n",
    "\n",
    "Un tel vecteur vérifie $s \\geq \\max(-x,0)$ (avec la définition terme à terme). Mais comme la somme des composantes de $s$ est plus petite que $s_M$, à fortiori la somme des composantes de $\\max(-x,0)$ est plus petite que $s_M$.\n",
    "L'existence d'un tel vecteur $s$ nous garantie donc que la contrainte $(5)$ est bien vérifiée. \n",
    "\n",
    "Inversement, si la contrainte $(5)$ est vérifiée, alors le vecteur $s$ défini par $s = 1^\\top \\max(-x,0)$ vérifie bien les contraintes $(6)$. \n",
    "\n",
    "Pour ajouter la contrainte d'inégalité $(5)$ au problème d'optimisation initialement décrit à la question 2, on peut donc ajouter un vecteur $s \\in \\mathbb R^n$ aux variables du problème (c'est-à-dire ajouter n variables supplémentaires), ainsi que les contraintes d'inégalités $(6)$. Ceci revient à redéfinir : \n",
    "\n",
    "- la variable $z= \\begin{pmatrix} x \\\\ s \\end{pmatrix} \\in \\mathbb R^{2n}$,\n",
    "- la fonction de coût $f : \\begin{pmatrix} x \\\\ s \\end{pmatrix} \\in \\mathbb{R}^{2n} \\mapsto x^\\top \\Sigma x \\in \\mathbb{R}$,\n",
    "- la contrainte d'égalité $c_{eq} : \\begin{pmatrix} x \\\\ s \\end{pmatrix} \\in \\mathbb{R}^{2n} \\mapsto (1^\\top x -1,  \\bar{p}^\\top x - r) \\in \\mathbb{R}^2$,\n",
    "- la contrainte d'inégalité $c_{ineq} : \\begin{pmatrix} x \\\\ s \\end{pmatrix} \\in \\mathbb{R}^{2n} \\mapsto \\begin{pmatrix} s + x \\\\ s \\\\ s_M - 1^\\top s \\end{pmatrix} \\in \\mathbb R^{2n+1}$\n",
    "\n",
    "et de résoudre le problème : \n",
    "\n",
    "$$ \\min_{ \\begin{matrix} z\\in \\mathbb R^{2n}\\\\ c_{eq}(z)=0,\\; c_{ineq}(z)\\geq 0 \\end{matrix}} f(z)$$\n",
    "\n",
    "Ceci permet d'intégrer la contrainte d'inégalité tout en conservant le caractère différentiable du problème. "
   ]
  },
  {
   "cell_type": "markdown",
   "metadata": {},
   "source": [
    "## Etude numérique du problème de Markowitz"
   ]
  },
  {
   "cell_type": "markdown",
   "metadata": {},
   "source": [
    "**Question 5** On a ici affaire à un problème d'optimisation quadratique différentiable, sous contraintes de type égalité. Il faut utiliser de la programmation quadratique."
   ]
  },
  {
   "cell_type": "markdown",
   "metadata": {},
   "source": [
    "**Question 6** On commence par définir les paramètres d'intérêt, puis la fonction à minimiser, et les contraintes à étudier."
   ]
  },
  {
   "cell_type": "code",
   "execution_count": 3,
   "metadata": {},
   "outputs": [
    {
     "data": {
      "text/plain": [
       "array([[0.01 , 0.003, 0.   ],\n",
       "       [0.003, 0.09 , 0.   ],\n",
       "       [0.   , 0.   , 0.64 ]])"
      ]
     },
     "execution_count": 3,
     "metadata": {},
     "output_type": "execute_result"
    }
   ],
   "source": [
    "p1 = 0.05\n",
    "p2 = 0.15\n",
    "p3 = 0.30\n",
    "sig1 = 0.10\n",
    "sig2 = 0.30\n",
    "sig3 = 0.80\n",
    "rho = 0.1\n",
    "r = 0.1\n",
    "pmoy = np.array([p1,p2,p3])\n",
    "Sig = np.array([[sig1**2,rho*sig1*sig2,0.],[rho*sig1*sig2,sig2**2,0.],[0.,0.,sig3**2]])\n",
    "Sig"
   ]
  },
  {
   "cell_type": "code",
   "execution_count": 4,
   "metadata": {},
   "outputs": [],
   "source": [
    "def risque(x):\n",
    "    ecart = np.matmul(x.T,np.matmul(Sig,x))\n",
    "    return ecart"
   ]
  },
  {
   "cell_type": "code",
   "execution_count": 5,
   "metadata": {},
   "outputs": [
    {
     "data": {
      "text/plain": [
       "0.7460000000000001"
      ]
     },
     "execution_count": 5,
     "metadata": {},
     "output_type": "execute_result"
    }
   ],
   "source": [
    "uno = np.array([1,1,1])\n",
    "risque(uno)"
   ]
  },
  {
   "cell_type": "code",
   "execution_count": 6,
   "metadata": {},
   "outputs": [],
   "source": [
    "def c1(x):\n",
    "    c = x[0] + x[1] + x[2] - 1\n",
    "    return c\n",
    "\n",
    "def c2(x):\n",
    "    c = pmoy[0]*x[0] + pmoy[1]*x[1] + pmoy[2]*x[2] - r\n",
    "    return c"
   ]
  },
  {
   "cell_type": "code",
   "execution_count": 7,
   "metadata": {},
   "outputs": [
    {
     "data": {
      "text/plain": [
       "(2, 0.4)"
      ]
     },
     "execution_count": 7,
     "metadata": {},
     "output_type": "execute_result"
    }
   ],
   "source": [
    "c1(uno), c2(uno)"
   ]
  },
  {
   "cell_type": "code",
   "execution_count": 8,
   "metadata": {},
   "outputs": [
    {
     "name": "stdout",
     "output_type": "stream",
     "text": [
      "\n",
      "******************************************************************************\n",
      "This program contains Ipopt, a library for large-scale nonlinear optimization.\n",
      " Ipopt is released as open source code under the Eclipse Public License (EPL).\n",
      "         For more information visit http://projects.coin-or.org/Ipopt\n",
      "******************************************************************************\n",
      "\n",
      "This is Ipopt version 3.12.3, running with linear solver mumps.\n",
      "NOTE: Other linear solvers might be more efficient (see Ipopt documentation).\n",
      "\n",
      "Number of nonzeros in equality constraint Jacobian...:        6\n",
      "Number of nonzeros in inequality constraint Jacobian.:        0\n",
      "Number of nonzeros in Lagrangian Hessian.............:        6\n",
      "\n",
      "Total number of variables............................:        3\n",
      "                     variables with only lower bounds:        0\n",
      "                variables with lower and upper bounds:        0\n",
      "                     variables with only upper bounds:        0\n",
      "Total number of equality constraints.................:        2\n",
      "Total number of inequality constraints...............:        0\n",
      "        inequality constraints with only lower bounds:        0\n",
      "   inequality constraints with lower and upper bounds:        0\n",
      "        inequality constraints with only upper bounds:        0\n",
      "\n",
      "iter    objective    inf_pr   inf_du lg(mu)  ||d||  lg(rg) alpha_du alpha_pr  ls\n",
      "   0 8.2888889e-002 6.67e-002 7.49e-002  -1.0 0.00e+000    -  0.00e+000 0.00e+000   0\n",
      "   1 1.7067775e-002 0.00e+000 1.39e-017  -2.5 3.00e-001    -  1.00e+000 1.00e+000h  1\n",
      "\n",
      "Number of Iterations....: 1\n",
      "\n",
      "                                   (scaled)                 (unscaled)\n",
      "Objective...............:  1.7067775467775475e-002   1.7067775467775475e-002\n",
      "Dual infeasibility......:  1.3877787807814457e-017   1.3877787807814457e-017\n",
      "Constraint violation....:  0.0000000000000000e+000   0.0000000000000000e+000\n",
      "Complementarity.........:  0.0000000000000000e+000   0.0000000000000000e+000\n",
      "Overall NLP error.......:  1.3877787807814457e-017   1.3877787807814457e-017\n",
      "\n",
      "\n",
      "Number of objective function evaluations             = 2\n",
      "Number of objective gradient evaluations             = 2\n",
      "Number of equality constraint evaluations            = 2\n",
      "Number of inequality constraint evaluations          = 0\n",
      "Number of equality constraint Jacobian evaluations   = 2\n",
      "Number of inequality constraint Jacobian evaluations = 0\n",
      "Number of Lagrangian Hessian evaluations             = 1\n",
      "Total CPU secs in IPOPT (w/o function evaluations)   =      0.007\n",
      "Total CPU secs in NLP function evaluations           =      0.000\n",
      "\n",
      "EXIT: Optimal Solution Found.\n",
      "      solver  :   t_proc      (avg)   t_wall      (avg)    n_eval\n",
      "       nlp_f  |        0 (       0)        0 (       0)         2\n",
      "       nlp_g  |        0 (       0)        0 (       0)         2\n",
      "  nlp_grad_f  |        0 (       0)        0 (       0)         3\n",
      "  nlp_hess_l  |        0 (       0)        0 (       0)         1\n",
      "   nlp_jac_g  |        0 (       0)        0 (       0)         3\n",
      "       total  |   8.00ms (  8.00ms)   7.90ms (  7.90ms)         1\n",
      "[0.63284823 0.27858628 0.08856549]\n"
     ]
    }
   ],
   "source": [
    "opti = casadi.Opti();\n",
    "n = 3\n",
    "x1 = opti.variable(n)\n",
    "opti.minimize(risque(x1))\n",
    "opti.subject_to(c1(x1)==0)\n",
    "opti.subject_to(c2(x1)==0)\n",
    "x10 = np.array([1/3, 1/3, 1/3])\n",
    "opti.set_initial(x1,x10)\n",
    "opti.solver('ipopt');\n",
    "sol1 = opti.solve();\n",
    "solx1 = sol1.value(x1)\n",
    "print(solx1)"
   ]
  },
  {
   "cell_type": "code",
   "execution_count": 9,
   "metadata": {},
   "outputs": [
    {
     "data": {
      "text/plain": [
       "(1.0, 0.1, 0.017067775467775475)"
      ]
     },
     "execution_count": 9,
     "metadata": {},
     "output_type": "execute_result"
    }
   ],
   "source": [
    "solx1[0] + solx1[1] + solx1[2], pmoy[0]*solx1[0] + pmoy[1]*solx1[1] + pmoy[2]*solx1[2], risque(solx1)"
   ]
  },
  {
   "cell_type": "markdown",
   "metadata": {},
   "source": [
    "On a bien une solution qui vérifie les contraintes !"
   ]
  },
  {
   "cell_type": "markdown",
   "metadata": {},
   "source": [
    "**Question 7** On va retester, mais avec $\\rho = 0.5$ puis $\\rho = -0.5$."
   ]
  },
  {
   "cell_type": "code",
   "execution_count": 10,
   "metadata": {},
   "outputs": [
    {
     "data": {
      "text/plain": [
       "(array([[0.01 , 0.003, 0.   ],\n",
       "        [0.003, 0.09 , 0.   ],\n",
       "        [0.   , 0.   , 0.64 ]]),\n",
       " array([[0.01 , 0.015, 0.   ],\n",
       "        [0.015, 0.09 , 0.   ],\n",
       "        [0.   , 0.   , 0.64 ]]),\n",
       " array([[ 0.01 , -0.015,  0.   ],\n",
       "        [-0.015,  0.09 ,  0.   ],\n",
       "        [ 0.   ,  0.   ,  0.64 ]]))"
      ]
     },
     "execution_count": 10,
     "metadata": {},
     "output_type": "execute_result"
    }
   ],
   "source": [
    "rho2 = 0.5\n",
    "Sig2 = np.array([[sig1**2,rho2*sig1*sig2,0.],[rho2*sig1*sig2,sig2**2,0.],[0.,0.,sig3**2]])\n",
    "rho3 = -0.5\n",
    "Sig3 = np.array([[sig1**2,rho3*sig1*sig2,0.],[rho3*sig1*sig2,sig2**2,0.],[0.,0.,sig3**2]])\n",
    "Sig, Sig2, Sig3"
   ]
  },
  {
   "cell_type": "code",
   "execution_count": 11,
   "metadata": {},
   "outputs": [],
   "source": [
    "def risque2(x):\n",
    "    ecart = np.matmul(x.T,np.matmul(Sig2,x))\n",
    "    return ecart\n",
    "\n",
    "def risque3(x):\n",
    "    ecart = np.matmul(x.T,np.matmul(Sig3,x))\n",
    "    return ecart"
   ]
  },
  {
   "cell_type": "code",
   "execution_count": 12,
   "metadata": {},
   "outputs": [
    {
     "name": "stdout",
     "output_type": "stream",
     "text": [
      "This is Ipopt version 3.12.3, running with linear solver mumps.\n",
      "NOTE: Other linear solvers might be more efficient (see Ipopt documentation).\n",
      "\n",
      "Number of nonzeros in equality constraint Jacobian...:       12\n",
      "Number of nonzeros in inequality constraint Jacobian.:        0\n",
      "Number of nonzeros in Lagrangian Hessian.............:        6\n",
      "\n",
      "Total number of variables............................:        6\n",
      "                     variables with only lower bounds:        0\n",
      "                variables with lower and upper bounds:        0\n",
      "                     variables with only upper bounds:        0\n",
      "Total number of equality constraints.................:        4\n",
      "Total number of inequality constraints...............:        0\n",
      "        inequality constraints with only lower bounds:        0\n",
      "   inequality constraints with lower and upper bounds:        0\n",
      "        inequality constraints with only upper bounds:        0\n",
      "\n",
      "iter    objective    inf_pr   inf_du lg(mu)  ||d||  lg(rg) alpha_du alpha_pr  ls\n",
      "   0 8.5555556e-002 6.67e-002 7.28e-002  -1.0 0.00e+000    -  0.00e+000 0.00e+000   0\n",
      "   1 2.1123596e-002 1.11e-016 3.18e-005  -2.5 3.18e-001  -4.0 1.00e+000 1.00e+000h  1\n",
      "   2 2.1123596e-002 2.78e-017 1.72e-009  -5.7 5.17e-005  -4.5 1.00e+000 1.00e+000h  1\n",
      "\n",
      "Number of Iterations....: 2\n",
      "\n",
      "                                   (scaled)                 (unscaled)\n",
      "Objective...............:  2.1123595505617987e-002   2.1123595505617987e-002\n",
      "Dual infeasibility......:  1.7243896172081108e-009   1.7243896172081108e-009\n",
      "Constraint violation....:  2.7755575615628914e-017   2.7755575615628914e-017\n",
      "Complementarity.........:  0.0000000000000000e+000   0.0000000000000000e+000\n",
      "Overall NLP error.......:  1.7243896172081108e-009   1.7243896172081108e-009\n",
      "\n",
      "\n",
      "Number of objective function evaluations             = 3\n",
      "Number of objective gradient evaluations             = 3\n",
      "Number of equality constraint evaluations            = 3\n",
      "Number of inequality constraint evaluations          = 0\n",
      "Number of equality constraint Jacobian evaluations   = 3\n",
      "Number of inequality constraint Jacobian evaluations = 0\n",
      "Number of Lagrangian Hessian evaluations             = 2\n",
      "Total CPU secs in IPOPT (w/o function evaluations)   =      0.011\n",
      "Total CPU secs in NLP function evaluations           =      0.000\n",
      "\n",
      "EXIT: Optimal Solution Found.\n",
      "      solver  :   t_proc      (avg)   t_wall      (avg)    n_eval\n",
      "       nlp_f  |        0 (       0)        0 (       0)         3\n",
      "       nlp_g  |        0 (       0)        0 (       0)         3\n",
      "  nlp_grad_f  |        0 (       0)        0 (       0)         4\n",
      "  nlp_hess_l  |        0 (       0)        0 (       0)         2\n",
      "   nlp_jac_g  |        0 (       0)        0 (       0)         4\n",
      "       total  |  13.00ms ( 13.00ms)  12.30ms ( 12.30ms)         1\n",
      "[0.65168539 0.24719102 0.10112359]\n"
     ]
    }
   ],
   "source": [
    "x2 = opti.variable(n)\n",
    "opti.minimize(risque2(x2))\n",
    "opti.subject_to(c1(x2)==0)\n",
    "opti.subject_to(c2(x2)==0)\n",
    "x20 = np.array([1/3, 1/3, 1/3])\n",
    "opti.set_initial(x2,x20)\n",
    "opti.solver('ipopt');\n",
    "sol2 = opti.solve();\n",
    "solx2 = sol2.value(x2)\n",
    "print(solx2)"
   ]
  },
  {
   "cell_type": "code",
   "execution_count": 13,
   "metadata": {},
   "outputs": [
    {
     "name": "stdout",
     "output_type": "stream",
     "text": [
      "This is Ipopt version 3.12.3, running with linear solver mumps.\n",
      "NOTE: Other linear solvers might be more efficient (see Ipopt documentation).\n",
      "\n",
      "Number of nonzeros in equality constraint Jacobian...:       18\n",
      "Number of nonzeros in inequality constraint Jacobian.:        0\n",
      "Number of nonzeros in Lagrangian Hessian.............:        6\n",
      "\n",
      "Total number of variables............................:        9\n",
      "                     variables with only lower bounds:        0\n",
      "                variables with lower and upper bounds:        0\n",
      "                     variables with only upper bounds:        0\n",
      "Total number of equality constraints.................:        6\n",
      "Total number of inequality constraints...............:        0\n",
      "        inequality constraints with only lower bounds:        0\n",
      "   inequality constraints with lower and upper bounds:        0\n",
      "        inequality constraints with only upper bounds:        0\n",
      "\n",
      "iter    objective    inf_pr   inf_du lg(mu)  ||d||  lg(rg) alpha_du alpha_pr  ls\n",
      "   0 7.8888889e-002 6.67e-002 7.81e-002  -1.0 0.00e+000    -  0.00e+000 0.00e+000   0\n",
      "   1 1.0392523e-002 1.11e-016 2.81e-005  -2.5 2.81e-001  -4.0 1.00e+000 1.00e+000h  1\n",
      "   2 1.0392523e-002 0.00e+000 5.99e-010  -5.7 1.80e-005  -4.5 1.00e+000 1.00e+000h  1\n",
      "\n",
      "Number of Iterations....: 2\n",
      "\n",
      "                                   (scaled)                 (unscaled)\n",
      "Objective...............:  1.0392523364485987e-002   1.0392523364485987e-002\n",
      "Dual infeasibility......:  5.9947737746091079e-010   5.9947737746091079e-010\n",
      "Constraint violation....:  0.0000000000000000e+000   0.0000000000000000e+000\n",
      "Complementarity.........:  0.0000000000000000e+000   0.0000000000000000e+000\n",
      "Overall NLP error.......:  5.9947737746091079e-010   5.9947737746091079e-010\n",
      "\n",
      "\n",
      "Number of objective function evaluations             = 3\n",
      "Number of objective gradient evaluations             = 3\n",
      "Number of equality constraint evaluations            = 3\n",
      "Number of inequality constraint evaluations          = 0\n",
      "Number of equality constraint Jacobian evaluations   = 3\n",
      "Number of inequality constraint Jacobian evaluations = 0\n",
      "Number of Lagrangian Hessian evaluations             = 2\n",
      "Total CPU secs in IPOPT (w/o function evaluations)   =      0.010\n",
      "Total CPU secs in NLP function evaluations           =      0.000\n",
      "\n",
      "EXIT: Optimal Solution Found.\n",
      "      solver  :   t_proc      (avg)   t_wall      (avg)    n_eval\n",
      "       nlp_f  |        0 (       0)        0 (       0)         3\n",
      "       nlp_g  |        0 (       0)        0 (       0)         3\n",
      "  nlp_grad_f  |        0 (       0)        0 (       0)         4\n",
      "  nlp_hess_l  |        0 (       0)        0 (       0)         2\n",
      "   nlp_jac_g  |        0 (       0)        0 (       0)         4\n",
      "       total  |  10.00ms ( 10.00ms)   9.45ms (  9.45ms)         1\n",
      "[0.60934579 0.31775701 0.0728972 ]\n"
     ]
    }
   ],
   "source": [
    "x3 = opti.variable(n)\n",
    "opti.minimize(risque3(x3))\n",
    "opti.subject_to(c1(x3)==0)\n",
    "opti.subject_to(c2(x3)==0)\n",
    "x30 = np.array([1/3, 1/3, 1/3])\n",
    "opti.set_initial(x3,x30)\n",
    "opti.solver('ipopt');\n",
    "sol3 = opti.solve();\n",
    "solx3 = sol3.value(x3)\n",
    "print(solx3)"
   ]
  },
  {
   "cell_type": "code",
   "execution_count": 14,
   "metadata": {},
   "outputs": [
    {
     "data": {
      "text/plain": [
       "(1.0, 0.09999999999999998, 0.021123595505617987)"
      ]
     },
     "execution_count": 14,
     "metadata": {},
     "output_type": "execute_result"
    }
   ],
   "source": [
    "solx2[0] + solx2[1] + solx2[2], pmoy[0]*solx2[0] + pmoy[1]*solx2[1] + pmoy[2]*solx2[2], risque2(solx2)"
   ]
  },
  {
   "cell_type": "code",
   "execution_count": 15,
   "metadata": {},
   "outputs": [
    {
     "data": {
      "text/plain": [
       "(1.0, 0.1, 0.010392523364485987)"
      ]
     },
     "execution_count": 15,
     "metadata": {},
     "output_type": "execute_result"
    }
   ],
   "source": [
    "solx3[0] + solx3[1] + solx3[2], pmoy[0]*solx3[0] + pmoy[1]*solx3[1] + pmoy[2]*solx3[2], risque3(solx3)"
   ]
  },
  {
   "cell_type": "markdown",
   "metadata": {},
   "source": [
    "On peut interpréter $\\rho$ comme un coefficient de corrélation entre le risque des actifs 1 et 2. Comme on le voit, augmenter $\\rho$ revient à placer plus dans l'actif 1 et moins dans le 2, et inversement si $\\rho$ diminue (et devient négatif) : s'il est positif, les variations des actifs sont de même signe, et de signe opposé s'il est négatif.\n",
    "Ainsi, comme on a un risque relatif plus faible sur l'actif  ($\\sigma_1 < \\sigma_2$), une corrélation positive indique que l'acheteur va placer la majorité de son portefeuille sur l'actif 1. Si, au contraire, elle est négative, alors l'acheteur va diversifier son portefeuille."
   ]
  },
  {
   "cell_type": "code",
   "execution_count": 16,
   "metadata": {},
   "outputs": [
    {
     "data": {
      "text/plain": [
       "[<matplotlib.lines.Line2D at 0x250c208aca0>]"
      ]
     },
     "execution_count": 16,
     "metadata": {},
     "output_type": "execute_result"
    },
    {
     "data": {
      "image/png": "[encoded data removed]",
      "text/plain": [
       "<Figure size 432x288 with 1 Axes>"
      ]
     },
     "metadata": {
      "needs_background": "light"
     },
     "output_type": "display_data"
    }
   ],
   "source": [
    "taille = 1001\n",
    "L = np.linspace(0,1,taille)\n",
    "M = 1-L\n",
    "N = np.zeros(taille)\n",
    "allocs = np.array([L,M,N]).T\n",
    "rend = np.array([np.dot(pmoy,i) for i in allocs])\n",
    "risk = np.array([np.sqrt(risque(i)) for i in allocs])\n",
    "risk2 = np.array([np.sqrt(risque2(i)) for i in allocs])\n",
    "risk3 = np.array([np.sqrt(risque3(i)) for i in allocs])\n",
    "plt.plot(risk,rend,'b')\n",
    "plt.plot(risk2,rend,'g')\n",
    "plt.plot(risk3,rend,'r')"
   ]
  },
  {
   "cell_type": "markdown",
   "metadata": {},
   "source": [
    "On remarque que la courbe rouge ($\\rho = -0.5$) est la plus intéressante : à rendement fixé, elle donne le risque le plus bas, et à risque fixé, elle donne le rendement le plus haut. Des actifs corrélés négativement sont la meilleure chose à atteindre.\n",
    "*Que mettre sur le même graphique : les 3 où x est sur le même intervalle mais $\\rho$ change ? Sans doute le plus logique...*"
   ]
  },
  {
   "cell_type": "code",
   "execution_count": 17,
   "metadata": {},
   "outputs": [
    {
     "data": {
      "text/plain": [
       "[<matplotlib.lines.Line2D at 0x250c41626a0>]"
      ]
     },
     "execution_count": 17,
     "metadata": {},
     "output_type": "execute_result"
    },
    {
     "data": {
      "image/png": "[encoded data removed]",
      "text/plain": [
       "<Figure size 432x288 with 1 Axes>"
      ]
     },
     "metadata": {
      "needs_background": "light"
     },
     "output_type": "display_data"
    }
   ],
   "source": [
    "taille2 = 1001\n",
    "L2 = np.linspace(-2,0,taille2)\n",
    "M2 = 1-L2\n",
    "N2 = np.zeros(taille2)\n",
    "allocs2 = np.array([L2,M2,N2]).T\n",
    "rend2 = np.array([np.dot(pmoy,i) for i in allocs2])\n",
    "risk21 = np.array([np.sqrt(risque(i)) for i in allocs2])\n",
    "risk22 = np.array([np.sqrt(risque2(i)) for i in allocs2])\n",
    "risk23 = np.array([np.sqrt(risque3(i)) for i in allocs2])\n",
    "plt.plot(risk21,rend2,'b')\n",
    "plt.plot(risk22,rend2,'g')\n",
    "plt.plot(risk23,rend2,'r')"
   ]
  },
  {
   "cell_type": "markdown",
   "metadata": {},
   "source": [
    "Ici, on fait des ventes à découvert sur l'actif 1. Cette fois-ci, c'est la corrélation positive qui est la plus intéressante ! Cette stratégie de vendre l'actif 1 à découvert pour acheter de l'actif 2 semble une bonne idée, car génère de bons rendements."
   ]
  },
  {
   "cell_type": "code",
   "execution_count": 18,
   "metadata": {},
   "outputs": [
    {
     "data": {
      "text/plain": [
       "[<matplotlib.lines.Line2D at 0x250c41d2c70>]"
      ]
     },
     "execution_count": 18,
     "metadata": {},
     "output_type": "execute_result"
    },
    {
     "data": {
      "image/png": "[encoded data removed]",
      "text/plain": [
       "<Figure size 432x288 with 1 Axes>"
      ]
     },
     "metadata": {
      "needs_background": "light"
     },
     "output_type": "display_data"
    }
   ],
   "source": [
    "taille3 = 1001\n",
    "M3 = np.linspace(-2,0,taille3)\n",
    "L3 = 1-M3\n",
    "N3 = np.zeros(taille3)\n",
    "allocs3 = np.array([L3,M3,N3]).T\n",
    "rend3 = np.array([np.dot(pmoy,i) for i in allocs3])\n",
    "risk31 = np.array([np.sqrt(risque(i)) for i in allocs3])\n",
    "risk32 = np.array([np.sqrt(risque2(i)) for i in allocs3])\n",
    "risk33 = np.array([np.sqrt(risque3(i)) for i in allocs3])\n",
    "plt.plot(risk31,rend3,'b')\n",
    "plt.plot(risk32,rend3,'g')\n",
    "plt.plot(risk33,rend3,'r')"
   ]
  },
  {
   "cell_type": "markdown",
   "metadata": {},
   "source": [
    "Dans ce dernier cas, on atteint facilement des rendements négatifs, ce qui n'est pas bien. On vend ici de l'actif 2 à découvert pour acheter de l'actif 1, ce qui se révèle une mauvaise stratégie."
   ]
  },
  {
   "cell_type": "markdown",
   "metadata": {},
   "source": [
    "**Question 8** Désormais, on reste avec la corrélation de $0.1$ entre 1 et 2, et on va tenter d'atteindre des rendements de $0.15$ et de $0.2$. On commence par rappeler le résultat de la question 6."
   ]
  },
  {
   "cell_type": "code",
   "execution_count": 19,
   "metadata": {},
   "outputs": [
    {
     "name": "stdout",
     "output_type": "stream",
     "text": [
      "This is Ipopt version 3.12.3, running with linear solver mumps.\n",
      "NOTE: Other linear solvers might be more efficient (see Ipopt documentation).\n",
      "\n",
      "Number of nonzeros in equality constraint Jacobian...:        6\n",
      "Number of nonzeros in inequality constraint Jacobian.:        0\n",
      "Number of nonzeros in Lagrangian Hessian.............:        6\n",
      "\n",
      "Total number of variables............................:        3\n",
      "                     variables with only lower bounds:        0\n",
      "                variables with lower and upper bounds:        0\n",
      "                     variables with only upper bounds:        0\n",
      "Total number of equality constraints.................:        2\n",
      "Total number of inequality constraints...............:        0\n",
      "        inequality constraints with only lower bounds:        0\n",
      "   inequality constraints with lower and upper bounds:        0\n",
      "        inequality constraints with only upper bounds:        0\n",
      "\n",
      "iter    objective    inf_pr   inf_du lg(mu)  ||d||  lg(rg) alpha_du alpha_pr  ls\n",
      "   0 8.2888889e-002 6.67e-002 7.49e-002  -1.0 0.00e+000    -  0.00e+000 0.00e+000   0\n",
      "   1 1.7067775e-002 0.00e+000 1.39e-017  -2.5 3.00e-001    -  1.00e+000 1.00e+000h  1\n",
      "\n",
      "Number of Iterations....: 1\n",
      "\n",
      "                                   (scaled)                 (unscaled)\n",
      "Objective...............:  1.7067775467775475e-002   1.7067775467775475e-002\n",
      "Dual infeasibility......:  1.3877787807814457e-017   1.3877787807814457e-017\n",
      "Constraint violation....:  0.0000000000000000e+000   0.0000000000000000e+000\n",
      "Complementarity.........:  0.0000000000000000e+000   0.0000000000000000e+000\n",
      "Overall NLP error.......:  1.3877787807814457e-017   1.3877787807814457e-017\n",
      "\n",
      "\n",
      "Number of objective function evaluations             = 2\n",
      "Number of objective gradient evaluations             = 2\n",
      "Number of equality constraint evaluations            = 2\n",
      "Number of inequality constraint evaluations          = 0\n",
      "Number of equality constraint Jacobian evaluations   = 2\n",
      "Number of inequality constraint Jacobian evaluations = 0\n",
      "Number of Lagrangian Hessian evaluations             = 1\n",
      "Total CPU secs in IPOPT (w/o function evaluations)   =      0.005\n",
      "Total CPU secs in NLP function evaluations           =      0.000\n",
      "\n",
      "EXIT: Optimal Solution Found.\n",
      "      solver  :   t_proc      (avg)   t_wall      (avg)    n_eval\n",
      "       nlp_f  |        0 (       0)        0 (       0)         2\n",
      "       nlp_g  |        0 (       0)        0 (       0)         2\n",
      "  nlp_grad_f  |        0 (       0)        0 (       0)         3\n",
      "  nlp_hess_l  |        0 (       0)        0 (       0)         1\n",
      "   nlp_jac_g  |        0 (       0)        0 (       0)         3\n",
      "       total  |   7.00ms (  7.00ms)   6.88ms (  6.88ms)         1\n",
      "[0.63284823 0.27858628 0.08856549]\n"
     ]
    }
   ],
   "source": [
    "opti = casadi.Opti();\n",
    "n = 3\n",
    "x1 = opti.variable(n)\n",
    "opti.minimize(risque(x1))\n",
    "opti.subject_to(c1(x1)==0)\n",
    "opti.subject_to(c2(x1)==0)\n",
    "x10 = np.array([1/3, 1/3, 1/3])\n",
    "opti.set_initial(x1,x10)\n",
    "opti.solver('ipopt');\n",
    "sol1 = opti.solve();\n",
    "solx1 = sol1.value(x1)\n",
    "print(solx1)"
   ]
  },
  {
   "cell_type": "markdown",
   "metadata": {},
   "source": [
    "Essayons de plus avec non plus $r = 0.1$, mais $r = 0.15$ et $r= 0.2$."
   ]
  },
  {
   "cell_type": "code",
   "execution_count": 20,
   "metadata": {},
   "outputs": [],
   "source": [
    "r2 = 0.15\n",
    "r3 = 0.2\n",
    "def c22(x):\n",
    "    c = pmoy[0]*x[0] + pmoy[1]*x[1] + pmoy[2]*x[2] - r2\n",
    "    return c\n",
    "def c23(x):\n",
    "    c = pmoy[0]*x[0] + pmoy[1]*x[1] + pmoy[2]*x[2] - r3\n",
    "    return c"
   ]
  },
  {
   "cell_type": "code",
   "execution_count": 21,
   "metadata": {},
   "outputs": [
    {
     "name": "stdout",
     "output_type": "stream",
     "text": [
      "This is Ipopt version 3.12.3, running with linear solver mumps.\n",
      "NOTE: Other linear solvers might be more efficient (see Ipopt documentation).\n",
      "\n",
      "Number of nonzeros in equality constraint Jacobian...:        6\n",
      "Number of nonzeros in inequality constraint Jacobian.:        0\n",
      "Number of nonzeros in Lagrangian Hessian.............:        6\n",
      "\n",
      "Total number of variables............................:        3\n",
      "                     variables with only lower bounds:        0\n",
      "                variables with lower and upper bounds:        0\n",
      "                     variables with only upper bounds:        0\n",
      "Total number of equality constraints.................:        2\n",
      "Total number of inequality constraints...............:        0\n",
      "        inequality constraints with only lower bounds:        0\n",
      "   inequality constraints with lower and upper bounds:        0\n",
      "        inequality constraints with only upper bounds:        0\n",
      "\n",
      "iter    objective    inf_pr   inf_du lg(mu)  ||d||  lg(rg) alpha_du alpha_pr  ls\n",
      "   0 8.2888889e-002 1.67e-002 7.49e-002  -1.0 0.00e+000    -  0.00e+000 0.00e+000   0\n",
      "   1 4.9567360e-002 1.11e-016 5.55e-017  -2.5 2.08e-001    -  1.00e+000 1.00e+000h  1\n",
      "\n",
      "Number of Iterations....: 1\n",
      "\n",
      "                                   (scaled)                 (unscaled)\n",
      "Objective...............:  4.9567359667359666e-002   4.9567359667359666e-002\n",
      "Dual infeasibility......:  5.5511151231257827e-017   5.5511151231257827e-017\n",
      "Constraint violation....:  1.1102230246251565e-016   1.1102230246251565e-016\n",
      "Complementarity.........:  0.0000000000000000e+000   0.0000000000000000e+000\n",
      "Overall NLP error.......:  1.1102230246251565e-016   1.1102230246251565e-016\n",
      "\n",
      "\n",
      "Number of objective function evaluations             = 2\n",
      "Number of objective gradient evaluations             = 2\n",
      "Number of equality constraint evaluations            = 2\n",
      "Number of inequality constraint evaluations          = 0\n",
      "Number of equality constraint Jacobian evaluations   = 2\n",
      "Number of inequality constraint Jacobian evaluations = 0\n",
      "Number of Lagrangian Hessian evaluations             = 1\n",
      "Total CPU secs in IPOPT (w/o function evaluations)   =      0.020\n",
      "Total CPU secs in NLP function evaluations           =      0.000\n",
      "\n",
      "EXIT: Optimal Solution Found.\n",
      "      solver  :   t_proc      (avg)   t_wall      (avg)    n_eval\n",
      "       nlp_f  |        0 (       0)        0 (       0)         2\n",
      "       nlp_g  |        0 (       0)        0 (       0)         2\n",
      "  nlp_grad_f  |        0 (       0)        0 (       0)         3\n",
      "  nlp_hess_l  |        0 (       0)        0 (       0)         1\n",
      "   nlp_jac_g  |        0 (       0)        0 (       0)         3\n",
      "       total  |  29.00ms ( 29.00ms)  29.07ms ( 29.07ms)         1\n",
      "[0.27505198 0.54158004 0.18336798]\n"
     ]
    }
   ],
   "source": [
    "opti = casadi.Opti();\n",
    "n = 3\n",
    "x4 = opti.variable(n)\n",
    "opti.minimize(risque(x4))\n",
    "opti.subject_to(c1(x4)==0)\n",
    "opti.subject_to(c22(x4)==0)\n",
    "x40 = np.array([1/3, 1/3, 1/3])\n",
    "opti.set_initial(x4,x40)\n",
    "opti.solver('ipopt');\n",
    "sol4 = opti.solve();\n",
    "solx4 = sol4.value(x4)\n",
    "print(solx4)"
   ]
  },
  {
   "cell_type": "code",
   "execution_count": 22,
   "metadata": {},
   "outputs": [
    {
     "name": "stdout",
     "output_type": "stream",
     "text": [
      "This is Ipopt version 3.12.3, running with linear solver mumps.\n",
      "NOTE: Other linear solvers might be more efficient (see Ipopt documentation).\n",
      "\n",
      "Number of nonzeros in equality constraint Jacobian...:        6\n",
      "Number of nonzeros in inequality constraint Jacobian.:        0\n",
      "Number of nonzeros in Lagrangian Hessian.............:        6\n",
      "\n",
      "Total number of variables............................:        3\n",
      "                     variables with only lower bounds:        0\n",
      "                variables with lower and upper bounds:        0\n",
      "                     variables with only upper bounds:        0\n",
      "Total number of equality constraints.................:        2\n",
      "Total number of inequality constraints...............:        0\n",
      "        inequality constraints with only lower bounds:        0\n",
      "   inequality constraints with lower and upper bounds:        0\n",
      "        inequality constraints with only upper bounds:        0\n",
      "\n",
      "iter    objective    inf_pr   inf_du lg(mu)  ||d||  lg(rg) alpha_du alpha_pr  ls\n",
      "   0 8.2888889e-002 3.33e-002 7.49e-002  -1.0 0.00e+000    -  0.00e+000 0.00e+000   0\n",
      "   1 1.0745198e-001 0.00e+000 5.55e-017  -2.5 4.71e-001    -  1.00e+000 1.00e+000h  1\n",
      "\n",
      "Number of Iterations....: 1\n",
      "\n",
      "                                   (scaled)                 (unscaled)\n",
      "Objective...............:  1.0745197505197507e-001   1.0745197505197507e-001\n",
      "Dual infeasibility......:  5.5511151231257827e-017   5.5511151231257827e-017\n",
      "Constraint violation....:  0.0000000000000000e+000   0.0000000000000000e+000\n",
      "Complementarity.........:  0.0000000000000000e+000   0.0000000000000000e+000\n",
      "Overall NLP error.......:  5.5511151231257827e-017   5.5511151231257827e-017\n",
      "\n",
      "\n",
      "Number of objective function evaluations             = 2\n",
      "Number of objective gradient evaluations             = 2\n",
      "Number of equality constraint evaluations            = 2\n",
      "Number of inequality constraint evaluations          = 0\n",
      "Number of equality constraint Jacobian evaluations   = 2\n",
      "Number of inequality constraint Jacobian evaluations = 0\n",
      "Number of Lagrangian Hessian evaluations             = 1\n",
      "Total CPU secs in IPOPT (w/o function evaluations)   =      0.004\n",
      "Total CPU secs in NLP function evaluations           =      0.000\n",
      "\n",
      "EXIT: Optimal Solution Found.\n",
      "      solver  :   t_proc      (avg)   t_wall      (avg)    n_eval\n",
      "       nlp_f  |        0 (       0)        0 (       0)         2\n",
      "       nlp_g  |        0 (       0)        0 (       0)         2\n",
      "  nlp_grad_f  |        0 (       0)        0 (       0)         3\n",
      "  nlp_hess_l  |        0 (       0)        0 (       0)         1\n",
      "   nlp_jac_g  |        0 (       0)        0 (       0)         3\n",
      "       total  |   4.00ms (  4.00ms)   4.07ms (  4.07ms)         1\n",
      "[-0.08274428  0.8045738   0.27817048]\n"
     ]
    }
   ],
   "source": [
    "opti = casadi.Opti();\n",
    "n = 3\n",
    "x5 = opti.variable(n)\n",
    "opti.minimize(risque(x5))\n",
    "opti.subject_to(c1(x5)==0)\n",
    "opti.subject_to(c23(x5)==0)\n",
    "x50 = np.array([1/3, 1/3, 1/3])\n",
    "opti.set_initial(x5,x50)\n",
    "opti.solver('ipopt');\n",
    "sol5 = opti.solve();\n",
    "solx5 = sol5.value(x5)\n",
    "print(solx5)"
   ]
  },
  {
   "cell_type": "markdown",
   "metadata": {},
   "source": [
    "On remarque que pour obtenir un rendement plus intéressant que $0.1$, il faut investir plutôt dans l'actif 2 que le 1, et un peu plus dans le 3. Pour en atteindre un de $0.2$, il est même intéressant de vendre à court l'actif 1 pour acheter encore plus de l'actif 2 ! En même temps, celui-ci est risqué, mais il rapporte plus que le premier...\n",
    "\n",
    "On remarque aussi autre chose. Regardons la moyenne de `solx1` pour le rendement $r = 0.1$, et de `solx5` pour le rendement $r = 0.2$ :"
   ]
  },
  {
   "cell_type": "code",
   "execution_count": 23,
   "metadata": {},
   "outputs": [
    {
     "data": {
      "text/plain": [
       "(array([0.27505198, 0.54158004, 0.18336798]),\n",
       " array([0.27505198, 0.54158004, 0.18336798]))"
      ]
     },
     "execution_count": 23,
     "metadata": {},
     "output_type": "execute_result"
    }
   ],
   "source": [
    "solmoy = (solx1+solx5)/2\n",
    "solmoy, solx4"
   ]
  },
  {
   "cell_type": "markdown",
   "metadata": {},
   "source": [
    "C'est exact : les allocations pour un rendement de $0.15$, moyenne de $0.1$ et de $0.2$, sont la moyenne de celles pour $0.1$ et $0.2$ ! C'est le *Two-fund theorem*, on peut construire chaque rendement efficace (à risque minimal) à partir de deux portefeuilles efficaces connus.\n",
    "\n",
    "*Trouver ce qu'il se passe si $\\sigma_3 = 0$*\n",
    "Si $\\sigma_3 = 0$, on suppose que quoi qu'il se passe le rendement relatif à l'actif 3 est de $0.30$. Il s'agit alors de revoir le problème en dimension 2 (avec un système à deux équations simples à résoudre) avec un rendement $r^{'} = r - 0.30$"
   ]
  },
  {
   "cell_type": "markdown",
   "metadata": {},
   "source": [
    "**Question 9**"
   ]
  },
  {
   "cell_type": "code",
   "execution_count": 35,
   "metadata": {},
   "outputs": [
    {
     "name": "stdout",
     "output_type": "stream",
     "text": [
      "This is Ipopt version 3.12.3, running with linear solver mumps.\n",
      "NOTE: Other linear solvers might be more efficient (see Ipopt documentation).\n",
      "\n",
      "Number of nonzeros in equality constraint Jacobian...:        6\n",
      "Number of nonzeros in inequality constraint Jacobian.:       12\n",
      "Number of nonzeros in Lagrangian Hessian.............:        6\n",
      "\n",
      "Total number of variables............................:        6\n",
      "                     variables with only lower bounds:        0\n",
      "                variables with lower and upper bounds:        0\n",
      "                     variables with only upper bounds:        0\n",
      "Total number of equality constraints.................:        2\n",
      "Total number of inequality constraints...............:        7\n",
      "        inequality constraints with only lower bounds:        7\n",
      "   inequality constraints with lower and upper bounds:        0\n",
      "        inequality constraints with only upper bounds:        0\n",
      "\n",
      "iter    objective    inf_pr   inf_du lg(mu)  ||d||  lg(rg) alpha_du alpha_pr  ls\n",
      "   0 8.2888889e-002 2.33e-001 5.00e-001  -1.0 0.00e+000    -  0.00e+000 0.00e+000   0\n",
      "   1 9.2478491e-001 1.11e-016 1.04e+000  -1.0 1.06e+000    -  4.87e-001 1.00e+000h  1\n",
      "   2 6.5769889e-001 0.00e+000 4.00e-001  -1.0 7.34e-001    -  6.39e-001 1.00e+000f  1\n",
      "   3 5.9330372e-001 2.22e-016 4.22e-002  -1.0 1.27e+000    -  8.99e-001 1.00e+000f  1\n",
      "   4 5.9284318e-001 0.00e+000 1.76e-002  -1.7 1.17e+000    -  8.21e-001 1.00e+000f  1\n",
      "   5 5.9284129e-001 1.11e-016 2.83e-008  -2.5 3.15e-001    -  1.00e+000 1.00e+000f  1\n",
      "   6 5.9284075e-001 1.11e-016 1.57e-007  -3.8 2.37e-001    -  1.00e+000 1.00e+000f  1\n",
      "   7 5.9284075e-001 0.00e+000 1.84e-011  -5.7 4.16e-002    -  1.00e+000 1.00e+000h  1\n",
      "   8 5.9284075e-001 1.11e-016 2.51e-014  -8.6 5.18e-003    -  1.00e+000 1.00e+000h  1\n",
      "\n",
      "Number of Iterations....: 8\n",
      "\n",
      "                                   (scaled)                 (unscaled)\n",
      "Objective...............:  5.9284074844074852e-001   5.9284074844074852e-001\n",
      "Dual infeasibility......:  2.5059035640133008e-014   2.5059035640133008e-014\n",
      "Constraint violation....:  1.1102230246251565e-016   1.1102230246251565e-016\n",
      "Complementarity.........:  9.0248818922621358e-009   9.0248818922621358e-009\n",
      "Overall NLP error.......:  9.0248818922621358e-009   9.0248818922621358e-009\n",
      "\n",
      "\n",
      "Number of objective function evaluations             = 9\n",
      "Number of objective gradient evaluations             = 9\n",
      "Number of equality constraint evaluations            = 9\n",
      "Number of inequality constraint evaluations          = 9\n",
      "Number of equality constraint Jacobian evaluations   = 9\n",
      "Number of inequality constraint Jacobian evaluations = 9\n",
      "Number of Lagrangian Hessian evaluations             = 8\n",
      "Total CPU secs in IPOPT (w/o function evaluations)   =      0.050\n",
      "Total CPU secs in NLP function evaluations           =      0.000\n",
      "\n",
      "EXIT: Optimal Solution Found.\n",
      "      solver  :   t_proc      (avg)   t_wall      (avg)    n_eval\n",
      "       nlp_f  |        0 (       0)        0 (       0)         9\n",
      "       nlp_g  |        0 (       0)        0 (       0)         9\n",
      "  nlp_grad_f  |        0 (       0)        0 (       0)        10\n",
      "  nlp_hess_l  |        0 (       0)        0 (       0)         8\n",
      "   nlp_jac_g  |   1.00ms (100.00us)   1.17ms (116.60us)        10\n",
      "       total  |  56.00ms ( 56.00ms)  55.83ms ( 55.83ms)         1\n",
      "[-1.51392931  1.85654886  0.65738046]\n"
     ]
    },
    {
     "data": {
      "text/plain": [
       "0.5928407484407485"
      ]
     },
     "execution_count": 35,
     "metadata": {},
     "output_type": "execute_result"
    }
   ],
   "source": [
    "sM = 10\n",
    "r = 0.4\n",
    "\n",
    "def risque(z):\n",
    "    x = z[:3]\n",
    "    return np.matmul(x.T,np.matmul(Sig,x))\n",
    "\n",
    "def c1(z):\n",
    "    x = z[:3]\n",
    "    c = x[0] + x[1] + x[2] - 1\n",
    "    return c\n",
    "\n",
    "def c2(z):\n",
    "    x = z[:3]\n",
    "    c = pmoy[0]*x[0] + pmoy[1]*x[1] + pmoy[2]*x[2] - r\n",
    "    return c\n",
    "\n",
    "def c3(z):\n",
    "    return z[0] + z[3]\n",
    "\n",
    "def c4(z):\n",
    "    return z[1] + z[4]\n",
    "\n",
    "def c5(z):\n",
    "    return z[2] + z[5]\n",
    "\n",
    "def c6(z):\n",
    "    return z[3]\n",
    "\n",
    "def c7(z):\n",
    "    return z[4]\n",
    "\n",
    "def c8(z):\n",
    "    return z[5]\n",
    "\n",
    "def c9(z):\n",
    "    return sM - z[3] - z[4] - z[5]\n",
    "\n",
    "opti = casadi.Opti();\n",
    "n = 6\n",
    "z = opti.variable(n)\n",
    "opti.minimize(risque(z))\n",
    "opti.subject_to(c1(z)==0)\n",
    "opti.subject_to(c2(z)==0)\n",
    "opti.subject_to(c3(z)>=0)\n",
    "opti.subject_to(c4(z)>=0)\n",
    "opti.subject_to(c5(z)>=0)\n",
    "opti.subject_to(c6(z)>=0)\n",
    "opti.subject_to(c7(z)>=0)\n",
    "opti.subject_to(c8(z)>=0)\n",
    "opti.subject_to(c9(z)>=0)\n",
    "z0 = np.array([1/3, 1/3, 1/3, 1/3, 1/3, 1/3])\n",
    "opti.set_initial(z,z0)\n",
    "opti.solver('ipopt')\n",
    "sol = opti.solve()\n",
    "solz = sol.value(z)\n",
    "print(solz[:3])\n",
    "\n",
    "risque(solz)"
   ]
  },
  {
   "cell_type": "markdown",
   "metadata": {},
   "source": [
    "On obtient les résultats suivants :\n",
    "$$\\begin{array}{a b c d}\n",
    "s_M & x_1 & x_2 & x_3 & \\text{risk} \\\\\n",
    "\\hline\n",
    "100 & -1.51 & 1.86 & 0.66 & 0.59 \\\\\n",
    "10 & -1.51 & 1.86 & 0.66 & 0.59 \\\\\n",
    "1 & -1.00 & 1.00 & 1.00 & 0.73 \\\\\n",
    "0.7 & -0.70 & 0.50 & 1.20 & 0.95 \\\\\n",
    "0.5 & -0.50 & 0.17 & 1.30 & 1.14 \\\\\n",
    "0.4 & -0.40 & 0.00 & 1.40 & 1.25 \\\\\n",
    "\\end{array}$$\n",
    "\n",
    "En l'absence de contrainte sur les positions courtes ($s_M = 100$), le rendement élevé $r=0.4$ impose une prise de risque plutot élevée et des positions courtes importantes sur le premier actif. \n",
    "En ajoutant une contrainte croissante sur les positions courtes ($1 > s_M > 0.4$), on est forcé à prendre des risques encore plus importants et on limite la prise de positions courtes sur le premier actif. "
   ]
  },
  {
   "cell_type": "markdown",
   "metadata": {},
   "source": [
    "**Question 10** On cherche ici à minimiser le risque moins le rendement, donc à maximiser le rendement moins le risque ! Dans le cas $\\mu = 0$, il s'agit de minimiser simplement $-\\bar{p}^\\top x$ ; soit de maximiser le rendement $r$ !\n",
    "\n",
    "Si les $x_i$ sont contraints à être positifs :\n",
    "* Dans le cas où $\\mu = 0$, il faut maximiser le rendement. On place alors l'entièreté des allocations sur l'actif qui rapporte le plus. On a ici affaire à un investisseur qui joue gros !\n",
    "* Dans le cas où $\\mu \\to +\\infty$, peu importe le rendement, il s'agit de rendre le risque minimal voire nul. On a cette fois affaire à un investisseur prudent, qui veut être sûr de son coup.\n",
    "\n",
    "Testons nos hypothèses."
   ]
  },
  {
   "cell_type": "code",
   "execution_count": null,
   "metadata": {},
   "outputs": [],
   "source": [
    "def rendrisque(x,mu):\n",
    "    ec = -(pmoy[0]*x[0]+pmoy[1]*x[1]+pmoy[2]*x[2]) + mu*np.matmul(x.T,np.matmul(Sig,x))\n",
    "    return ec"
   ]
  },
  {
   "cell_type": "code",
   "execution_count": null,
   "metadata": {},
   "outputs": [],
   "source": [
    "munul = 0.001\n",
    "opti = casadi.Opti();\n",
    "n = 3\n",
    "y1 = opti.variable(n)\n",
    "opti.minimize(rendrisque(y1,munul))\n",
    "opti.subject_to(c1(y1)==0)\n",
    "y10 = np.array([1/3, 1/3, 1/3])\n",
    "opti.set_initial(y1,y10)\n",
    "opti.solver('ipopt');\n",
    "solmu1 = opti.solve();\n",
    "soly1 = solmu1.value(y1)\n",
    "print(soly1)"
   ]
  },
  {
   "cell_type": "code",
   "execution_count": null,
   "metadata": {},
   "outputs": [],
   "source": [
    "soly1[0] + soly1[1] + soly1[2], pmoy[0]*soly1[0] + pmoy[1]*soly1[1] + pmoy[2]*soly1[2], risque(soly1)"
   ]
  },
  {
   "cell_type": "markdown",
   "metadata": {},
   "source": [
    "On peut modifier à son gré la valeur de $mu$ pour la rapprocher de 0, mais cela pourrait diverger. On n'a en effet pas contraint les ventes courtes, ce qui occasionne une énorme vente à découvert de l'actif 1, sans prendre gare au risque, dans l'objectif d'acheter beaucoup des actifs 2 et 3, pour gagner plus ! Le rendement est en effet gigantesque, mais quel risque démesuré !"
   ]
  },
  {
   "cell_type": "code",
   "execution_count": null,
   "metadata": {},
   "outputs": [],
   "source": [
    "mugrand = 10000000\n",
    "opti = casadi.Opti();\n",
    "n = 3\n",
    "y2 = opti.variable(n)\n",
    "opti.minimize(rendrisque(y2,mugrand))\n",
    "opti.subject_to(c1(y2)==0)\n",
    "y20 = np.array([1/3, 1/3, 1/3])\n",
    "opti.set_initial(y2,y20)\n",
    "opti.solver('ipopt');\n",
    "solmu2 = opti.solve();\n",
    "soly2 = solmu2.value(y2)\n",
    "print(soly2)"
   ]
  },
  {
   "cell_type": "code",
   "execution_count": null,
   "metadata": {},
   "outputs": [],
   "source": [
    "soly2[0] + soly2[1] + soly2[2], pmoy[0]*soly2[0] + pmoy[1]*soly2[1] + pmoy[2]*soly2[2], risque(soly2)"
   ]
  },
  {
   "cell_type": "markdown",
   "metadata": {},
   "source": [
    "L'investissement dans l'actif 1 est le moins risqué : d'où le fort investisssement de ce portefeuille dans le premier actif. Le rendement est moindre certes, mais le risque minimal !"
   ]
  },
  {
   "cell_type": "markdown",
   "metadata": {},
   "source": [
    "**Question 11** *A faire : je dirais que c'est si on s'occupe de chaque terme de l'expression séparément ? Jsp*"
   ]
  },
  {
   "cell_type": "markdown",
   "metadata": {},
   "source": [
    "**Question 12** *A faire : ça a pas l'air évident !*"
   ]
  }
 ],
 "metadata": {
  "kernelspec": {
   "display_name": "Python 3",
   "language": "python",
   "name": "python3"
  },
  "language_info": {
   "codemirror_mode": {
    "name": "ipython",
    "version": 3
   },
   "file_extension": ".py",
   "mimetype": "text/x-python",
   "name": "python",
   "nbconvert_exporter": "python",
   "pygments_lexer": "ipython3",
   "version": "3.8.3"
  }
 },
 "nbformat": 4,
 "nbformat_minor": 2
}
