{
 "cells": [
  {
   "cell_type": "markdown",
   "metadata": {},
   "source": [
    "# Henry Markowitz et les quarante portefeuilles "
   ]
  },
  {
   "cell_type": "code",
   "execution_count": 2,
   "metadata": {},
   "outputs": [
    {
     "data": {
      "application/javascript": [
       "MathJax.Hub.Config({\n",
       "    TeX: { equationNumbers: { autoNumber: \"AMS\" } }\n",
       "});"
      ],
      "text/plain": [
       "<IPython.core.display.Javascript object>"
      ]
     },
     "metadata": {},
     "output_type": "display_data"
    }
   ],
   "source": [
    "%%javascript\n",
    "MathJax.Hub.Config({\n",
    "    TeX: { equationNumbers: { autoNumber: \"AMS\" } }\n",
    "});"
   ]
  },
  {
   "cell_type": "code",
   "execution_count": 4,
   "metadata": {},
   "outputs": [],
   "source": [
    "import numpy as np\n",
    "import matplotlib.pyplot as plt\n",
    "from scipy import optimize"
   ]
  },
  {
   "cell_type": "markdown",
   "metadata": {},
   "source": [
    "L’optimisation de portefeuille a pour objectif de définir un choix \"optimal\" d’investissement d’un capital\n",
    "dans un ensemble de n actifs. Pour ce faire, on note\n",
    "$x_i$\n",
    "l’investissement dans le i-ème actif, de sorte que le\n",
    "vecteur $x \\in \\mathbb{R}^n$\n",
    " décrit l’allocation globale du portefeuille à travers l’ensemble des actifs. Ceci génère un\n",
    "rendement $r$ pour l’ensemble du portefeuille, incertain,\n",
    "dont on cherche à minimiser le risque.\n",
    "\n",
    "On considère le vecteur $p \\in \\mathbb{R}^n$ de variation du prix\n",
    "des actifs sur le long terme, supposé gaussien, de\n",
    "moyenne $\\bar{p}$ et de matrice de covariance $\\Sigma$, semi-définie\n",
    "positive. Pour tenir compte du budget à investir, on a\n",
    "$$ 1^\\top x = 1 \\tag{1} $$\n",
    "où $1^\\top$ désigne le vecteur ligne $(1, . . . , 1) \\in \\mathbb{R}^n$.  Par\n",
    "ailleurs, pour un rendement 2} $r$ donné, on sait que\n",
    "$$ \\bar{p}^\\top x = r \\tag{2} $$\n",
    "et que le risque associé à un investissement $x$ peut\n",
    "s’exprimer comme sa variance\n",
    "$$ x^\\top \\Sigma x \\tag{3}$$"
   ]
  },
  {
   "cell_type": "markdown",
   "metadata": {},
   "source": [
    "## Etude de l’expression d’origine par Markowitz"
   ]
  },
  {
   "cell_type": "markdown",
   "metadata": {},
   "source": [
    "**Question 1** Dans ce problème, on se donne un portefeuille. On veut investir plus ou moins dans un ensemble de $n$ actifs. Pour cela, une limite : on ne peut pas dépasser son budget initial. On peut alors normaliser ces investissements, en se fixant un budget normalisé de $1$. Dans ce cas, notons $(x_1,...,x_n)$ le vecteur des différentes allocations. Si pour $i$ donné on a $x_i$ positif, on espère que l'actif $i$ augmente pour le revendre. Au contraire, si $x_i$ est négatif, on appelle cela une vente à découvert : on espère que l'actif $i$ baisse en valeur pour le racheter, et ainsi avoir une plus-value. Avec notre budget normalisé de $1$, on a logiquement :\n",
    "$$ \\sum_{i = 1}^n x_i = 1$$\n",
    "ce qui revient, en vectoriel, à l'équation $(1)$. L'équation $(2)$ induit que l'on peut lier un placement $x$ et son rendement attendu $r$, ou inversement un rendement fixé et un placement valable, grâce au vecteur des variations moyennes de prix $\\bar{p}$ : en effet, en pondérant nos placements par ces facteurs stochastiques, on prévoit la variation de notre capital (normalisée). Enfin, en se donnant un rendement à atteindre $r$, on veut essayer de minimiser le risque que notre rendement réel s'écarte de ce que l'on veut idéalement avec l'équation $(2)$. Ce risque, c'est la variance liée à $p$, c'est à dire $x^\\top \\Sigma x$."
   ]
  },
  {
   "cell_type": "markdown",
   "metadata": {},
   "source": [
    "**Question 2** On cherche désormais à écrire ce problème comme un problème d'optimisation, sous la forme\n",
    "$$\\min_{c_{eq}(z) = 0} f(z) \\tag{4}$$\n",
    "Dans ce cas, c'est le risque lié à la variance qu'il faut minimiser ici, sous les contraintes des équations $(1)$ et $(2)$. Pour coller au problème, on a $n$ variables, autant que d'actifs dans lesquels il est possible d'investir. Notre $z$ est évidemment le vecteur $x$ des allocations. Ce qu'on doit minimiser, c'est la fonction $f : x \\in \\mathbb{R}^n \\mapsto x^\\top \\Sigma x \\in \\mathbb{R}$.\n",
    "Notre contrainte $c_{eq}$ est telle que :\n",
    "$$ c_{eq} : x \\in \\mathbb{R}^n \\mapsto (1^\\top x -1,  \\bar{p}^\\top x - r) \\in \\mathbb{R}^2 $$"
   ]
  },
  {
   "cell_type": "markdown",
   "metadata": {},
   "source": [
    "**Question 3** L'utilisation du max vectoriel permet de ne sélectionner que les investissements négatifs, ou ventes à découvert, ou positions courtes. Ainsi, on somme les ventes à découvert, et on oblige la valeur absolue de cette somme à ne pas dépasser une certaine constante $s_M$ donnée. En faisant cela, le total des allocations d'investissements positifs est au moins de $1-s_M$. La difficulté, c'est que cette contrainte que l'on rajoute,\n",
    "$$ 1^\\top \\max(-x,0) \\leq s_M \\tag{5} $$"
   ]
  },
  {
   "cell_type": "markdown",
   "metadata": {},
   "source": [
    "**Question 4** On introduit $s \\in \\mathbb{R}^n$, tel que :\n",
    "$$ s \\geq -x, \\ \\ s\\geq 0, \\ \\ 1^\\top s \\leq s_M \\tag{6}$$\n",
    "Alors, puisque $s \\geq -x$, et $s \\geq 0$, à fortiori $s \\geq \\max(-x,0)$ (avec la définition terme à terme). Mais comme la somme des composantes de $s$ est plus petite que $s_M$, ici aussi à fortiori la somme des composantes de $\\max(-x,0)$ est plus petite que $s_M$, ce qui donne bien la condition $(5)$.\n",
    "\n",
    "*A faire : modifier implémentation du problème*"
   ]
  },
  {
   "cell_type": "markdown",
   "metadata": {},
   "source": [
    "## Etude numérique du problème de Markowitz"
   ]
  },
  {
   "cell_type": "markdown",
   "metadata": {},
   "source": [
    "**Question 5** On a ici affaire à un problème d'optimisation sous contraintes de type égalité."
   ]
  },
  {
   "cell_type": "code",
   "execution_count": 9,
   "metadata": {},
   "outputs": [],
   "source": [
    "p1 = 0.05\n",
    "p2 = 0.15\n",
    "p3 = 0.30\n",
    "sig1 = 0.10\n",
    "sig2 = 0.30\n",
    "sig3 = 0.80\n",
    "rho = 0.1\n",
    "r = 0.1\n",
    "p = np.array([p1,p2,p3])\n",
    "Sig = np.array([[sig1**2,rho*sig1*sig2,0.],[rho*sig1*sig2,sig2**2,0.],[0.,0.,sig3**2]])"
   ]
  },
  {
   "cell_type": "code",
   "execution_count": null,
   "metadata": {},
   "outputs": [],
   "source": []
  }
 ],
 "metadata": {
  "kernelspec": {
   "display_name": "Python 3",
   "language": "python",
   "name": "python3"
  },
  "language_info": {
   "codemirror_mode": {
    "name": "ipython",
    "version": 3
   },
   "file_extension": ".py",
   "mimetype": "text/x-python",
   "name": "python",
   "nbconvert_exporter": "python",
   "pygments_lexer": "ipython3",
   "version": "3.6.5"
  }
 },
 "nbformat": 4,
 "nbformat_minor": 2
}
